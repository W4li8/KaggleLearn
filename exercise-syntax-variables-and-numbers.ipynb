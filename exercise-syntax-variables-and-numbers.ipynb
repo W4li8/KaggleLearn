{
 "cells": [
  {
   "cell_type": "markdown",
   "id": "f47f9dc7",
   "metadata": {
    "papermill": {
     "duration": 0.027242,
     "end_time": "2022-04-17T16:27:47.683999",
     "exception": false,
     "start_time": "2022-04-17T16:27:47.656757",
     "status": "completed"
    },
    "tags": []
   },
   "source": [
    "Welcome to your first set of Python coding problems.  If this is your first time using Kaggle Notebooks, welcome! \n",
    "\n",
    "Notebooks are composed of blocks (called \"cells\") of text and code. Each of these is editable, though you'll mainly be editing the code cells to answer some questions.\n",
    "\n",
    "To get started, try running the code cell below (by pressing the ► button, or clicking on the cell and pressing ctrl+enter on your keyboard)."
   ]
  },
  {
   "cell_type": "code",
   "execution_count": 1,
   "id": "9e121e60",
   "metadata": {
    "execution": {
     "iopub.execute_input": "2022-04-17T16:27:47.730312Z",
     "iopub.status.busy": "2022-04-17T16:27:47.729882Z",
     "iopub.status.idle": "2022-04-17T16:27:47.742752Z",
     "shell.execute_reply": "2022-04-17T16:27:47.741866Z"
    },
    "papermill": {
     "duration": 0.040494,
     "end_time": "2022-04-17T16:27:47.744719",
     "exception": false,
     "start_time": "2022-04-17T16:27:47.704225",
     "status": "completed"
    },
    "tags": []
   },
   "outputs": [
    {
     "name": "stdout",
     "output_type": "stream",
     "text": [
      "You've successfully run some Python code\n",
      "Congratulations!\n"
     ]
    }
   ],
   "source": [
    "print(\"You've successfully run some Python code\")\n",
    "print(\"Congratulations!\")"
   ]
  },
  {
   "cell_type": "markdown",
   "id": "944e4373",
   "metadata": {
    "papermill": {
     "duration": 0.020657,
     "end_time": "2022-04-17T16:27:47.786384",
     "exception": false,
     "start_time": "2022-04-17T16:27:47.765727",
     "status": "completed"
    },
    "tags": []
   },
   "source": [
    "Try adding another line of code in the cell above and re-running it. \n",
    "\n",
    "Now let's get a little fancier:  Add a new code cell by clicking on an existing code cell, hitting the escape key, and then hitting the `a` or `b` key.  The `a` key will add a cell above the current cell, and `b` adds a cell below.\n",
    "\n",
    "Great! Now you know how to use Notebooks.\n",
    "\n",
    "Each hands-on exercise starts by setting up our feedback and code checking mechanism. Run the code cell below to do that. Then you'll be ready to move on to question 0."
   ]
  },
  {
   "cell_type": "code",
   "execution_count": 2,
   "id": "eb132e34",
   "metadata": {
    "_kg_hide-input": true,
    "_kg_hide-output": true,
    "execution": {
     "iopub.execute_input": "2022-04-17T16:27:47.829418Z",
     "iopub.status.busy": "2022-04-17T16:27:47.828845Z",
     "iopub.status.idle": "2022-04-17T16:27:47.874772Z",
     "shell.execute_reply": "2022-04-17T16:27:47.873926Z"
    },
    "papermill": {
     "duration": 0.069436,
     "end_time": "2022-04-17T16:27:47.876649",
     "exception": false,
     "start_time": "2022-04-17T16:27:47.807213",
     "status": "completed"
    },
    "tags": []
   },
   "outputs": [
    {
     "name": "stdout",
     "output_type": "stream",
     "text": [
      "Setup complete! You're ready to start question 0.\n"
     ]
    }
   ],
   "source": [
    "from learntools.core import binder; binder.bind(globals())\n",
    "from learntools.python.ex1 import *\n",
    "print(\"Setup complete! You're ready to start question 0.\")"
   ]
  },
  {
   "cell_type": "markdown",
   "id": "978063da",
   "metadata": {
    "papermill": {
     "duration": 0.020292,
     "end_time": "2022-04-17T16:27:47.917346",
     "exception": false,
     "start_time": "2022-04-17T16:27:47.897054",
     "status": "completed"
    },
    "tags": []
   },
   "source": [
    "# 0.\n",
    "\n",
    "*This is a silly question intended as an introduction to the format we use for hands-on exercises throughout all Kaggle courses.*\n",
    "\n",
    "**What is your favorite color? **\n",
    "\n",
    "To complete this question, create a variable called `color` in the cell below with an appropriate value. The function call `q0.check()` (which we've already provided in the cell below) will check your answer."
   ]
  },
  {
   "cell_type": "code",
   "execution_count": 3,
   "id": "71f2dbf3",
   "metadata": {
    "execution": {
     "iopub.execute_input": "2022-04-17T16:27:47.960267Z",
     "iopub.status.busy": "2022-04-17T16:27:47.959385Z",
     "iopub.status.idle": "2022-04-17T16:27:47.969450Z",
     "shell.execute_reply": "2022-04-17T16:27:47.968640Z"
    },
    "papermill": {
     "duration": 0.03366,
     "end_time": "2022-04-17T16:27:47.971422",
     "exception": false,
     "start_time": "2022-04-17T16:27:47.937762",
     "status": "completed"
    },
    "tags": []
   },
   "outputs": [
    {
     "data": {
      "application/javascript": [
       "parent.postMessage({\"jupyterEvent\": \"custom.exercise_interaction\", \"data\": {\"outcomeType\": 1, \"valueTowardsCompletion\": 0.25, \"interactionType\": 1, \"questionType\": 2, \"questionId\": \"0_ExerciseFormatTutorial\", \"learnToolsVersion\": \"0.3.4\", \"failureMessage\": \"\", \"exceptionClass\": \"\", \"trace\": \"\"}}, \"*\")"
      ],
      "text/plain": [
       "<IPython.core.display.Javascript object>"
      ]
     },
     "metadata": {},
     "output_type": "display_data"
    },
    {
     "data": {
      "text/markdown": [
       "<span style=\"color:#33cc33\">Correct:</span> What?! You got it right without needing a hint or anything? Drats. Well hey, you should still continue to the next step to get some practice asking for a hint and checking solutions. (Even though you obviously don't need any help here.)"
      ],
      "text/plain": [
       "Correct: What?! You got it right without needing a hint or anything? Drats. Well hey, you should still continue to the next step to get some practice asking for a hint and checking solutions. (Even though you obviously don't need any help here.)"
      ]
     },
     "metadata": {},
     "output_type": "display_data"
    }
   ],
   "source": [
    "# create a variable called color with an appropriate value on the line below\n",
    "# (Remember, strings in Python must be enclosed in 'single' or \"double\" quotes)\n",
    "color = 'blue'\n",
    "\n",
    "# Check your answer\n",
    "q0.check()"
   ]
  },
  {
   "cell_type": "markdown",
   "id": "07eb0d29",
   "metadata": {
    "papermill": {
     "duration": 0.02302,
     "end_time": "2022-04-17T16:27:48.016146",
     "exception": false,
     "start_time": "2022-04-17T16:27:47.993126",
     "status": "completed"
    },
    "tags": []
   },
   "source": [
    "Didn't get the right answer? How do you not even know your own favorite color?!\n",
    "\n",
    "Delete the `#` in the line below to make one of the lines run. You can choose between getting a hint or the full answer by choosing which line to remove the `#` from. \n",
    "\n",
    "Removing the `#` is called uncommenting, because it changes that line from a \"comment\" which Python doesn't run to code, which Python does run."
   ]
  },
  {
   "cell_type": "code",
   "execution_count": 4,
   "id": "89df96ed",
   "metadata": {
    "execution": {
     "iopub.execute_input": "2022-04-17T16:27:48.061171Z",
     "iopub.status.busy": "2022-04-17T16:27:48.060632Z",
     "iopub.status.idle": "2022-04-17T16:27:48.072160Z",
     "shell.execute_reply": "2022-04-17T16:27:48.071234Z"
    },
    "papermill": {
     "duration": 0.036461,
     "end_time": "2022-04-17T16:27:48.074238",
     "exception": false,
     "start_time": "2022-04-17T16:27:48.037777",
     "status": "completed"
    },
    "tags": []
   },
   "outputs": [
    {
     "data": {
      "application/javascript": [
       "parent.postMessage({\"jupyterEvent\": \"custom.exercise_interaction\", \"data\": {\"interactionType\": 2, \"questionType\": 2, \"questionId\": \"0_ExerciseFormatTutorial\", \"learnToolsVersion\": \"0.3.4\", \"valueTowardsCompletion\": 0.0, \"failureMessage\": \"\", \"exceptionClass\": \"\", \"trace\": \"\", \"outcomeType\": 4}}, \"*\")"
      ],
      "text/plain": [
       "<IPython.core.display.Javascript object>"
      ]
     },
     "metadata": {},
     "output_type": "display_data"
    },
    {
     "data": {
      "text/markdown": [
       "<span style=\"color:#3366cc\">Hint:</span> Your favorite color rhymes with *glue*."
      ],
      "text/plain": [
       "Hint: Your favorite color rhymes with *glue*."
      ]
     },
     "metadata": {},
     "output_type": "display_data"
    },
    {
     "data": {
      "application/javascript": [
       "parent.postMessage({\"jupyterEvent\": \"custom.exercise_interaction\", \"data\": {\"interactionType\": 3, \"questionType\": 2, \"questionId\": \"0_ExerciseFormatTutorial\", \"learnToolsVersion\": \"0.3.4\", \"valueTowardsCompletion\": 0.0, \"failureMessage\": \"\", \"exceptionClass\": \"\", \"trace\": \"\", \"outcomeType\": 4}}, \"*\")"
      ],
      "text/plain": [
       "<IPython.core.display.Javascript object>"
      ]
     },
     "metadata": {},
     "output_type": "display_data"
    },
    {
     "data": {
      "text/markdown": [
       "<span style=\"color:#33cc99\">Solution:</span> \n",
       "```python\n",
       "color = \"blue\"\n",
       "```"
      ],
      "text/plain": [
       "Solution: \n",
       "```python\n",
       "color = \"blue\"\n",
       "```"
      ]
     },
     "metadata": {},
     "output_type": "display_data"
    }
   ],
   "source": [
    "q0.hint()\n",
    "q0.solution()"
   ]
  },
  {
   "cell_type": "markdown",
   "id": "3a25235b",
   "metadata": {
    "papermill": {
     "duration": 0.024933,
     "end_time": "2022-04-17T16:27:48.123356",
     "exception": false,
     "start_time": "2022-04-17T16:27:48.098423",
     "status": "completed"
    },
    "tags": []
   },
   "source": [
    "The upcoming questions work the same way. The only thing that will change are the question numbers. For the next question, you'll call `q1.check()`, `q1.hint()`, `q1.solution()`, for question 2, you'll call `q2.check()`, and so on."
   ]
  },
  {
   "cell_type": "markdown",
   "id": "67fb9153",
   "metadata": {
    "papermill": {
     "duration": 0.02503,
     "end_time": "2022-04-17T16:27:48.172301",
     "exception": false,
     "start_time": "2022-04-17T16:27:48.147271",
     "status": "completed"
    },
    "tags": []
   },
   "source": [
    "<hr/>\n",
    "\n",
    "# 1.\n",
    "\n",
    "Complete the code below. In case it's helpful, here is the table of available arithmetic operations:\n",
    "\n",
    "\n",
    "\n",
    "| Operator     | Name           | Description                                            |\n",
    "|--------------|----------------|--------------------------------------------------------|\n",
    "| ``a + b``    | Addition       | Sum of ``a`` and ``b``                                 |\n",
    "| ``a - b``    | Subtraction    | Difference of ``a`` and ``b``                          |\n",
    "| ``a * b``    | Multiplication | Product of ``a`` and ``b``                             |\n",
    "| ``a / b``    | True division  | Quotient of ``a`` and ``b``                            |\n",
    "| ``a // b``   | Floor division | Quotient of ``a`` and ``b``, removing fractional parts |\n",
    "| ``a % b``    | Modulus        | Integer remainder after division of ``a`` by ``b``     |\n",
    "| ``a ** b``   | Exponentiation | ``a`` raised to the power of ``b``                     |\n",
    "| ``-a``       | Negation       | The negative of ``a``                                  |\n",
    "\n",
    "<span style=\"display:none\"></span>\n"
   ]
  },
  {
   "cell_type": "code",
   "execution_count": 5,
   "id": "92d988d0",
   "metadata": {
    "execution": {
     "iopub.execute_input": "2022-04-17T16:27:48.221375Z",
     "iopub.status.busy": "2022-04-17T16:27:48.221014Z",
     "iopub.status.idle": "2022-04-17T16:27:48.228210Z",
     "shell.execute_reply": "2022-04-17T16:27:48.227640Z"
    },
    "papermill": {
     "duration": 0.033928,
     "end_time": "2022-04-17T16:27:48.230027",
     "exception": false,
     "start_time": "2022-04-17T16:27:48.196099",
     "status": "completed"
    },
    "tags": []
   },
   "outputs": [
    {
     "data": {
      "application/javascript": [
       "parent.postMessage({\"jupyterEvent\": \"custom.exercise_interaction\", \"data\": {\"outcomeType\": 1, \"valueTowardsCompletion\": 0.25, \"interactionType\": 1, \"questionType\": 1, \"questionId\": \"1_CircleArea\", \"learnToolsVersion\": \"0.3.4\", \"failureMessage\": \"\", \"exceptionClass\": \"\", \"trace\": \"\"}}, \"*\")"
      ],
      "text/plain": [
       "<IPython.core.display.Javascript object>"
      ]
     },
     "metadata": {},
     "output_type": "display_data"
    },
    {
     "data": {
      "text/markdown": [
       "<span style=\"color:#33cc33\">Correct</span>"
      ],
      "text/plain": [
       "Correct"
      ]
     },
     "metadata": {},
     "output_type": "display_data"
    }
   ],
   "source": [
    "pi = 3.14159 # approximate\n",
    "diameter = 3\n",
    "\n",
    "# Create a variable called 'radius' equal to half the diameter\n",
    "radius = 0.5*diameter\n",
    "\n",
    "# Create a variable called 'area', using the formula for the area of a circle: pi times the radius squared\n",
    "area = pi*radius**2\n",
    "\n",
    "# Check your answer\n",
    "q1.check()"
   ]
  },
  {
   "cell_type": "code",
   "execution_count": 6,
   "id": "c88530be",
   "metadata": {
    "execution": {
     "iopub.execute_input": "2022-04-17T16:27:48.282610Z",
     "iopub.status.busy": "2022-04-17T16:27:48.281571Z",
     "iopub.status.idle": "2022-04-17T16:27:48.285939Z",
     "shell.execute_reply": "2022-04-17T16:27:48.284903Z"
    },
    "papermill": {
     "duration": 0.031937,
     "end_time": "2022-04-17T16:27:48.287835",
     "exception": false,
     "start_time": "2022-04-17T16:27:48.255898",
     "status": "completed"
    },
    "tags": []
   },
   "outputs": [],
   "source": [
    "# Uncomment and run the lines below if you need help.\n",
    "#q1.hint()"
   ]
  },
  {
   "cell_type": "code",
   "execution_count": 7,
   "id": "09a578af",
   "metadata": {
    "execution": {
     "iopub.execute_input": "2022-04-17T16:27:48.340306Z",
     "iopub.status.busy": "2022-04-17T16:27:48.339305Z",
     "iopub.status.idle": "2022-04-17T16:27:48.347123Z",
     "shell.execute_reply": "2022-04-17T16:27:48.346536Z"
    },
    "papermill": {
     "duration": 0.035575,
     "end_time": "2022-04-17T16:27:48.348807",
     "exception": false,
     "start_time": "2022-04-17T16:27:48.313232",
     "status": "completed"
    },
    "tags": []
   },
   "outputs": [
    {
     "data": {
      "application/javascript": [
       "parent.postMessage({\"jupyterEvent\": \"custom.exercise_interaction\", \"data\": {\"interactionType\": 3, \"questionType\": 1, \"questionId\": \"1_CircleArea\", \"learnToolsVersion\": \"0.3.4\", \"valueTowardsCompletion\": 0.0, \"failureMessage\": \"\", \"exceptionClass\": \"\", \"trace\": \"\", \"outcomeType\": 4}}, \"*\")"
      ],
      "text/plain": [
       "<IPython.core.display.Javascript object>"
      ]
     },
     "metadata": {},
     "output_type": "display_data"
    },
    {
     "data": {
      "text/markdown": [
       "<span style=\"color:#33cc99\">Solution:</span> \n",
       "```python\n",
       "radius = diameter / 2\n",
       "area = pi * radius ** 2\n",
       "```"
      ],
      "text/plain": [
       "Solution: \n",
       "```python\n",
       "radius = diameter / 2\n",
       "area = pi * radius ** 2\n",
       "```"
      ]
     },
     "metadata": {},
     "output_type": "display_data"
    }
   ],
   "source": [
    "q1.solution()"
   ]
  },
  {
   "cell_type": "markdown",
   "id": "dc4858f8",
   "metadata": {
    "papermill": {
     "duration": 0.025081,
     "end_time": "2022-04-17T16:27:48.399470",
     "exception": false,
     "start_time": "2022-04-17T16:27:48.374389",
     "status": "completed"
    },
    "tags": []
   },
   "source": [
    "<hr/>\n",
    "\n",
    "# 2.\n",
    "\n",
    "Add code to the following cell to swap variables `a` and `b` (so that `a` refers to the object previously referred to by `b` and vice versa)."
   ]
  },
  {
   "cell_type": "code",
   "execution_count": 8,
   "id": "3cd73a0d",
   "metadata": {
    "execution": {
     "iopub.execute_input": "2022-04-17T16:27:48.451463Z",
     "iopub.status.busy": "2022-04-17T16:27:48.451165Z",
     "iopub.status.idle": "2022-04-17T16:27:48.458178Z",
     "shell.execute_reply": "2022-04-17T16:27:48.457624Z"
    },
    "papermill": {
     "duration": 0.035456,
     "end_time": "2022-04-17T16:27:48.459900",
     "exception": false,
     "start_time": "2022-04-17T16:27:48.424444",
     "status": "completed"
    },
    "tags": []
   },
   "outputs": [
    {
     "data": {
      "application/javascript": [
       "parent.postMessage({\"jupyterEvent\": \"custom.exercise_interaction\", \"data\": {\"outcomeType\": 1, \"valueTowardsCompletion\": 0.25, \"interactionType\": 1, \"questionType\": 2, \"questionId\": \"2_VariableSwap\", \"learnToolsVersion\": \"0.3.4\", \"failureMessage\": \"\", \"exceptionClass\": \"\", \"trace\": \"\"}}, \"*\")"
      ],
      "text/plain": [
       "<IPython.core.display.Javascript object>"
      ]
     },
     "metadata": {},
     "output_type": "display_data"
    },
    {
     "data": {
      "text/markdown": [
       "<span style=\"color:#33cc33\">Correct:</span> \n",
       "\n",
       "The most straightforward solution is to use a third variable to temporarily store one of the old values. e.g.:\n",
       "\n",
       "    tmp = a\n",
       "    a = b\n",
       "    b = tmp\n",
       "\n",
       "If you've read lots of Python code, you might have seen the following trick to swap two variables in one line:\n",
       "\n",
       "    a, b = b, a\n",
       "\n",
       "We'll demystify this bit of Python magic later when we talk about *tuples*."
      ],
      "text/plain": [
       "Correct: \n",
       "\n",
       "The most straightforward solution is to use a third variable to temporarily store one of the old values. e.g.:\n",
       "\n",
       "    tmp = a\n",
       "    a = b\n",
       "    b = tmp\n",
       "\n",
       "If you've read lots of Python code, you might have seen the following trick to swap two variables in one line:\n",
       "\n",
       "    a, b = b, a\n",
       "\n",
       "We'll demystify this bit of Python magic later when we talk about *tuples*."
      ]
     },
     "metadata": {},
     "output_type": "display_data"
    }
   ],
   "source": [
    "########### Setup code - don't touch this part ######################\n",
    "# If you're curious, these are examples of lists. We'll talk about \n",
    "# them in depth a few lessons from now. For now, just know that they're\n",
    "# yet another type of Python object, like int or float.\n",
    "a = [1, 2, 3]\n",
    "b = [3, 2, 1]\n",
    "q2.store_original_ids()\n",
    "######################################################################\n",
    "\n",
    "# Your code goes here. Swap the values to which a and b refer.\n",
    "# If you get stuck, you can always uncomment one or both of the lines in\n",
    "# the next cell for a hint, or to peek at the solution.\n",
    "a, b = b, a\n",
    "######################################################################\n",
    "\n",
    "# Check your answer\n",
    "q2.check()"
   ]
  },
  {
   "cell_type": "code",
   "execution_count": 9,
   "id": "9523c89f",
   "metadata": {
    "execution": {
     "iopub.execute_input": "2022-04-17T16:27:48.513982Z",
     "iopub.status.busy": "2022-04-17T16:27:48.513431Z",
     "iopub.status.idle": "2022-04-17T16:27:48.516553Z",
     "shell.execute_reply": "2022-04-17T16:27:48.515999Z"
    },
    "papermill": {
     "duration": 0.032283,
     "end_time": "2022-04-17T16:27:48.518290",
     "exception": false,
     "start_time": "2022-04-17T16:27:48.486007",
     "status": "completed"
    },
    "tags": []
   },
   "outputs": [],
   "source": [
    "#q2.hint()"
   ]
  },
  {
   "cell_type": "code",
   "execution_count": 10,
   "id": "a391da0f",
   "metadata": {
    "execution": {
     "iopub.execute_input": "2022-04-17T16:27:48.572063Z",
     "iopub.status.busy": "2022-04-17T16:27:48.571536Z",
     "iopub.status.idle": "2022-04-17T16:27:48.577127Z",
     "shell.execute_reply": "2022-04-17T16:27:48.576610Z"
    },
    "papermill": {
     "duration": 0.034366,
     "end_time": "2022-04-17T16:27:48.578675",
     "exception": false,
     "start_time": "2022-04-17T16:27:48.544309",
     "status": "completed"
    },
    "tags": []
   },
   "outputs": [
    {
     "data": {
      "application/javascript": [
       "parent.postMessage({\"jupyterEvent\": \"custom.exercise_interaction\", \"data\": {\"interactionType\": 3, \"questionType\": 2, \"questionId\": \"2_VariableSwap\", \"learnToolsVersion\": \"0.3.4\", \"valueTowardsCompletion\": 0.0, \"failureMessage\": \"\", \"exceptionClass\": \"\", \"trace\": \"\", \"outcomeType\": 4}}, \"*\")"
      ],
      "text/plain": [
       "<IPython.core.display.Javascript object>"
      ]
     },
     "metadata": {},
     "output_type": "display_data"
    },
    {
     "data": {
      "text/markdown": [
       "<span style=\"color:#33cc99\">Solution:</span> The most straightforward solution is to use a third variable to temporarily store one of the old values. e.g.:\n",
       "\n",
       "    tmp = a\n",
       "    a = b\n",
       "    b = tmp\n",
       "\n",
       "If you've read lots of Python code, you might have seen the following trick to swap two variables in one line:\n",
       "\n",
       "    a, b = b, a\n",
       "\n",
       "We'll demystify this bit of Python magic later when we talk about *tuples*."
      ],
      "text/plain": [
       "Solution: The most straightforward solution is to use a third variable to temporarily store one of the old values. e.g.:\n",
       "\n",
       "    tmp = a\n",
       "    a = b\n",
       "    b = tmp\n",
       "\n",
       "If you've read lots of Python code, you might have seen the following trick to swap two variables in one line:\n",
       "\n",
       "    a, b = b, a\n",
       "\n",
       "We'll demystify this bit of Python magic later when we talk about *tuples*."
      ]
     },
     "metadata": {},
     "output_type": "display_data"
    }
   ],
   "source": [
    "q2.solution()"
   ]
  },
  {
   "cell_type": "markdown",
   "id": "63100ef7",
   "metadata": {
    "papermill": {
     "duration": 0.026603,
     "end_time": "2022-04-17T16:27:48.632136",
     "exception": false,
     "start_time": "2022-04-17T16:27:48.605533",
     "status": "completed"
    },
    "tags": []
   },
   "source": [
    "<hr/>\n",
    "\n",
    "# 3a.\n",
    "\n",
    "Add parentheses to the following expression so that it evaluates to 1."
   ]
  },
  {
   "cell_type": "code",
   "execution_count": 11,
   "id": "7578be46",
   "metadata": {
    "execution": {
     "iopub.execute_input": "2022-04-17T16:27:48.699129Z",
     "iopub.status.busy": "2022-04-17T16:27:48.698528Z",
     "iopub.status.idle": "2022-04-17T16:27:48.705213Z",
     "shell.execute_reply": "2022-04-17T16:27:48.704322Z"
    },
    "papermill": {
     "duration": 0.049091,
     "end_time": "2022-04-17T16:27:48.708213",
     "exception": false,
     "start_time": "2022-04-17T16:27:48.659122",
     "status": "completed"
    },
    "tags": []
   },
   "outputs": [
    {
     "data": {
      "text/plain": [
       "1"
      ]
     },
     "execution_count": 11,
     "metadata": {},
     "output_type": "execute_result"
    }
   ],
   "source": [
    "(5 - 3) // 2"
   ]
  },
  {
   "cell_type": "code",
   "execution_count": 12,
   "id": "71b42a1a",
   "metadata": {
    "execution": {
     "iopub.execute_input": "2022-04-17T16:27:48.786637Z",
     "iopub.status.busy": "2022-04-17T16:27:48.785699Z",
     "iopub.status.idle": "2022-04-17T16:27:48.789464Z",
     "shell.execute_reply": "2022-04-17T16:27:48.788805Z"
    },
    "papermill": {
     "duration": 0.044634,
     "end_time": "2022-04-17T16:27:48.791692",
     "exception": false,
     "start_time": "2022-04-17T16:27:48.747058",
     "status": "completed"
    },
    "tags": []
   },
   "outputs": [],
   "source": [
    "#q3.a.hint()"
   ]
  },
  {
   "cell_type": "code",
   "execution_count": 13,
   "id": "8624ac37",
   "metadata": {
    "execution": {
     "iopub.execute_input": "2022-04-17T16:27:48.852714Z",
     "iopub.status.busy": "2022-04-17T16:27:48.852425Z",
     "iopub.status.idle": "2022-04-17T16:27:48.859181Z",
     "shell.execute_reply": "2022-04-17T16:27:48.858429Z"
    },
    "papermill": {
     "duration": 0.039059,
     "end_time": "2022-04-17T16:27:48.861232",
     "exception": false,
     "start_time": "2022-04-17T16:27:48.822173",
     "status": "completed"
    },
    "tags": []
   },
   "outputs": [
    {
     "data": {
      "application/javascript": [
       "parent.postMessage({\"jupyterEvent\": \"custom.exercise_interaction\", \"data\": {\"interactionType\": 3, \"questionType\": 4, \"questionId\": \"3.1_ArithmeticParensEasy\", \"learnToolsVersion\": \"0.3.4\", \"valueTowardsCompletion\": 0.0, \"failureMessage\": \"\", \"exceptionClass\": \"\", \"trace\": \"\", \"outcomeType\": 4}}, \"*\")"
      ],
      "text/plain": [
       "<IPython.core.display.Javascript object>"
      ]
     },
     "metadata": {},
     "output_type": "display_data"
    },
    {
     "data": {
      "text/markdown": [
       "<span style=\"color:#33cc99\">Solution:</span> \n",
       "```python\n",
       "(5 - 3) // 2\n",
       "```"
      ],
      "text/plain": [
       "Solution: \n",
       "```python\n",
       "(5 - 3) // 2\n",
       "```"
      ]
     },
     "metadata": {},
     "output_type": "display_data"
    }
   ],
   "source": [
    "# Check your answer (Run this code cell to receive credit!)\n",
    "q3.a.solution()"
   ]
  },
  {
   "cell_type": "markdown",
   "id": "23f21b10",
   "metadata": {
    "papermill": {
     "duration": 0.028578,
     "end_time": "2022-04-17T16:27:48.919025",
     "exception": false,
     "start_time": "2022-04-17T16:27:48.890447",
     "status": "completed"
    },
    "tags": []
   },
   "source": [
    "# 3b.  <span title=\"A bit spicy\" style=\"color: darkgreen \">🌶️</span>\n",
    "\n",
    "<small>Questions, like this one, marked a spicy pepper are a bit harder.</small>\n",
    "\n",
    "Add parentheses to the following expression so that it evaluates to 0."
   ]
  },
  {
   "cell_type": "code",
   "execution_count": 14,
   "id": "cdb40b62",
   "metadata": {
    "execution": {
     "iopub.execute_input": "2022-04-17T16:27:48.978561Z",
     "iopub.status.busy": "2022-04-17T16:27:48.978013Z",
     "iopub.status.idle": "2022-04-17T16:27:48.983122Z",
     "shell.execute_reply": "2022-04-17T16:27:48.982593Z"
    },
    "papermill": {
     "duration": 0.036429,
     "end_time": "2022-04-17T16:27:48.984771",
     "exception": false,
     "start_time": "2022-04-17T16:27:48.948342",
     "status": "completed"
    },
    "tags": []
   },
   "outputs": [
    {
     "data": {
      "text/plain": [
       "0"
      ]
     },
     "execution_count": 14,
     "metadata": {},
     "output_type": "execute_result"
    }
   ],
   "source": [
    "8 - 3 * 2 - (1 + 1)"
   ]
  },
  {
   "cell_type": "code",
   "execution_count": 15,
   "id": "257b29b8",
   "metadata": {
    "execution": {
     "iopub.execute_input": "2022-04-17T16:27:49.044224Z",
     "iopub.status.busy": "2022-04-17T16:27:49.043747Z",
     "iopub.status.idle": "2022-04-17T16:27:49.046616Z",
     "shell.execute_reply": "2022-04-17T16:27:49.046062Z"
    },
    "papermill": {
     "duration": 0.034727,
     "end_time": "2022-04-17T16:27:49.048207",
     "exception": false,
     "start_time": "2022-04-17T16:27:49.013480",
     "status": "completed"
    },
    "tags": []
   },
   "outputs": [],
   "source": [
    "#q3.b.hint()"
   ]
  },
  {
   "cell_type": "code",
   "execution_count": 16,
   "id": "4a0c0def",
   "metadata": {
    "execution": {
     "iopub.execute_input": "2022-04-17T16:27:49.107576Z",
     "iopub.status.busy": "2022-04-17T16:27:49.107071Z",
     "iopub.status.idle": "2022-04-17T16:27:49.113059Z",
     "shell.execute_reply": "2022-04-17T16:27:49.112228Z"
    },
    "papermill": {
     "duration": 0.037368,
     "end_time": "2022-04-17T16:27:49.114690",
     "exception": false,
     "start_time": "2022-04-17T16:27:49.077322",
     "status": "completed"
    },
    "tags": []
   },
   "outputs": [
    {
     "data": {
      "application/javascript": [
       "parent.postMessage({\"jupyterEvent\": \"custom.exercise_interaction\", \"data\": {\"interactionType\": 3, \"questionType\": 4, \"questionId\": \"3.2_ArithmeticParensHard\", \"learnToolsVersion\": \"0.3.4\", \"valueTowardsCompletion\": 0.0, \"failureMessage\": \"\", \"exceptionClass\": \"\", \"trace\": \"\", \"outcomeType\": 4}}, \"*\")"
      ],
      "text/plain": [
       "<IPython.core.display.Javascript object>"
      ]
     },
     "metadata": {},
     "output_type": "display_data"
    },
    {
     "data": {
      "text/markdown": [
       "<span style=\"color:#33cc99\">Solution:</span> `(8 - 3) * (2 - (1 + 1))` is one solution. There may be others."
      ],
      "text/plain": [
       "Solution: `(8 - 3) * (2 - (1 + 1))` is one solution. There may be others."
      ]
     },
     "metadata": {},
     "output_type": "display_data"
    }
   ],
   "source": [
    "# Check your answer (Run this code cell to receive credit!)\n",
    "q3.b.solution()"
   ]
  },
  {
   "cell_type": "markdown",
   "id": "c84dde92",
   "metadata": {
    "papermill": {
     "duration": 0.030104,
     "end_time": "2022-04-17T16:27:49.175126",
     "exception": false,
     "start_time": "2022-04-17T16:27:49.145022",
     "status": "completed"
    },
    "tags": []
   },
   "source": [
    "<hr/>\n",
    "\n",
    "# 4. \n",
    "Alice, Bob and Carol have agreed to pool their Halloween candy and split it evenly among themselves.\n",
    "For the sake of their friendship, any candies left over will be smashed. For example, if they collectively\n",
    "bring home 91 candies, they'll take 30 each and smash 1.\n",
    "\n",
    "Write an arithmetic expression below to calculate how many candies they must smash for a given haul."
   ]
  },
  {
   "cell_type": "code",
   "execution_count": 17,
   "id": "49c7edee",
   "metadata": {
    "execution": {
     "iopub.execute_input": "2022-04-17T16:27:49.236750Z",
     "iopub.status.busy": "2022-04-17T16:27:49.236223Z",
     "iopub.status.idle": "2022-04-17T16:27:49.243011Z",
     "shell.execute_reply": "2022-04-17T16:27:49.242176Z"
    },
    "papermill": {
     "duration": 0.039382,
     "end_time": "2022-04-17T16:27:49.244658",
     "exception": false,
     "start_time": "2022-04-17T16:27:49.205276",
     "status": "completed"
    },
    "tags": []
   },
   "outputs": [
    {
     "data": {
      "application/javascript": [
       "parent.postMessage({\"jupyterEvent\": \"custom.exercise_interaction\", \"data\": {\"outcomeType\": 1, \"valueTowardsCompletion\": 0.25, \"interactionType\": 1, \"questionType\": 1, \"questionId\": \"4_CandySplitting\", \"learnToolsVersion\": \"0.3.4\", \"failureMessage\": \"\", \"exceptionClass\": \"\", \"trace\": \"\"}}, \"*\")"
      ],
      "text/plain": [
       "<IPython.core.display.Javascript object>"
      ]
     },
     "metadata": {},
     "output_type": "display_data"
    },
    {
     "data": {
      "text/markdown": [
       "<span style=\"color:#33cc33\">Correct</span>"
      ],
      "text/plain": [
       "Correct"
      ]
     },
     "metadata": {},
     "output_type": "display_data"
    }
   ],
   "source": [
    "# Variables representing the number of candies collected by alice, bob, and carol\n",
    "alice_candies = 121\n",
    "bob_candies = 77\n",
    "carol_candies = 109\n",
    "\n",
    "# Your code goes here! Replace the right-hand side of this assignment with an expression\n",
    "# involving alice_candies, bob_candies, and carol_candies\n",
    "to_smash = (alice_candies + bob_candies + carol_candies) % 3\n",
    "\n",
    "# Check your answer\n",
    "q4.check()"
   ]
  },
  {
   "cell_type": "code",
   "execution_count": 18,
   "id": "5182471f",
   "metadata": {
    "execution": {
     "iopub.execute_input": "2022-04-17T16:27:49.307478Z",
     "iopub.status.busy": "2022-04-17T16:27:49.307189Z",
     "iopub.status.idle": "2022-04-17T16:27:49.310282Z",
     "shell.execute_reply": "2022-04-17T16:27:49.309687Z"
    },
    "papermill": {
     "duration": 0.037444,
     "end_time": "2022-04-17T16:27:49.312238",
     "exception": false,
     "start_time": "2022-04-17T16:27:49.274794",
     "status": "completed"
    },
    "tags": []
   },
   "outputs": [],
   "source": [
    "#q4.hint()"
   ]
  },
  {
   "cell_type": "code",
   "execution_count": 19,
   "id": "7f75d235",
   "metadata": {
    "execution": {
     "iopub.execute_input": "2022-04-17T16:27:49.375312Z",
     "iopub.status.busy": "2022-04-17T16:27:49.375019Z",
     "iopub.status.idle": "2022-04-17T16:27:49.381369Z",
     "shell.execute_reply": "2022-04-17T16:27:49.380626Z"
    },
    "papermill": {
     "duration": 0.040024,
     "end_time": "2022-04-17T16:27:49.383301",
     "exception": false,
     "start_time": "2022-04-17T16:27:49.343277",
     "status": "completed"
    },
    "tags": []
   },
   "outputs": [
    {
     "data": {
      "application/javascript": [
       "parent.postMessage({\"jupyterEvent\": \"custom.exercise_interaction\", \"data\": {\"interactionType\": 3, \"questionType\": 1, \"questionId\": \"4_CandySplitting\", \"learnToolsVersion\": \"0.3.4\", \"valueTowardsCompletion\": 0.0, \"failureMessage\": \"\", \"exceptionClass\": \"\", \"trace\": \"\", \"outcomeType\": 4}}, \"*\")"
      ],
      "text/plain": [
       "<IPython.core.display.Javascript object>"
      ]
     },
     "metadata": {},
     "output_type": "display_data"
    },
    {
     "data": {
      "text/markdown": [
       "<span style=\"color:#33cc99\">Solution:</span> \n",
       "```python\n",
       "(alice_candies + bob_candies + carol_candies) % 3\n",
       "```"
      ],
      "text/plain": [
       "Solution: \n",
       "```python\n",
       "(alice_candies + bob_candies + carol_candies) % 3\n",
       "```"
      ]
     },
     "metadata": {},
     "output_type": "display_data"
    }
   ],
   "source": [
    "q4.solution()"
   ]
  },
  {
   "cell_type": "markdown",
   "id": "9cc0cbbb",
   "metadata": {
    "papermill": {
     "duration": 0.030983,
     "end_time": "2022-04-17T16:27:49.445277",
     "exception": false,
     "start_time": "2022-04-17T16:27:49.414294",
     "status": "completed"
    },
    "tags": []
   },
   "source": [
    "# Keep Going\n",
    "\n",
    "Next up, you'll **[learn to write new functions and understand functions others write](https://www.kaggle.com/colinmorris/functions-and-getting-help)**. This will make you at least 10 times more productive as a Python programmer. "
   ]
  },
  {
   "cell_type": "markdown",
   "id": "8ee4fb08",
   "metadata": {
    "papermill": {
     "duration": 0.031092,
     "end_time": "2022-04-17T16:27:49.507290",
     "exception": false,
     "start_time": "2022-04-17T16:27:49.476198",
     "status": "completed"
    },
    "tags": []
   },
   "source": [
    "---\n",
    "\n",
    "\n",
    "\n",
    "\n",
    "*Have questions or comments? Visit the [course discussion forum](https://www.kaggle.com/learn/python/discussion) to chat with other learners.*"
   ]
  }
 ],
 "metadata": {
  "kernelspec": {
   "display_name": "Python 3",
   "language": "python",
   "name": "python3"
  },
  "language_info": {
   "codemirror_mode": {
    "name": "ipython",
    "version": 3
   },
   "file_extension": ".py",
   "mimetype": "text/x-python",
   "name": "python",
   "nbconvert_exporter": "python",
   "pygments_lexer": "ipython3",
   "version": "3.7.12"
  },
  "papermill": {
   "default_parameters": {},
   "duration": 11.579569,
   "end_time": "2022-04-17T16:27:50.159002",
   "environment_variables": {},
   "exception": null,
   "input_path": "__notebook__.ipynb",
   "output_path": "__notebook__.ipynb",
   "parameters": {},
   "start_time": "2022-04-17T16:27:38.579433",
   "version": "2.3.4"
  }
 },
 "nbformat": 4,
 "nbformat_minor": 5
}
